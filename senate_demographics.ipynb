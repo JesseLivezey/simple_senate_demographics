{
 "cells": [
  {
   "cell_type": "code",
   "execution_count": 1,
   "metadata": {
    "collapsed": true
   },
   "outputs": [],
   "source": [
    "import os\n",
    "import numpy as np\n",
    "import pandas as pd\n",
    "\n",
    "import matplotlib.pyplot as plt"
   ]
  },
  {
   "cell_type": "code",
   "execution_count": 20,
   "metadata": {
    "collapsed": true
   },
   "outputs": [],
   "source": [
    "rng = np.random.RandomState(20170720)\n",
    "data = pd.read_csv('data.csv')\n",
    "\n",
    "n_bootstrap = 1000000\n",
    "repetitions = 10000"
   ]
  },
  {
   "cell_type": "code",
   "execution_count": 21,
   "metadata": {
    "collapsed": true
   },
   "outputs": [],
   "source": [
    "state_black = data['Fraction Black'].values\n",
    "state_woman = data['Fraction Female'].values"
   ]
  },
  {
   "cell_type": "code",
   "execution_count": 22,
   "metadata": {},
   "outputs": [
    {
     "ename": "KeyboardInterrupt",
     "evalue": "",
     "output_type": "error",
     "traceback": [
      "\u001b[0;31m---------------------------------------------------------------------------\u001b[0m",
      "\u001b[0;31mKeyboardInterrupt\u001b[0m                         Traceback (most recent call last)",
      "\u001b[0;32m<ipython-input-22-2c347b69898a>\u001b[0m in \u001b[0;36m<module>\u001b[0;34m()\u001b[0m\n\u001b[1;32m      1\u001b[0m \u001b[0;32mfor\u001b[0m \u001b[0mii\u001b[0m \u001b[0;32min\u001b[0m \u001b[0mrange\u001b[0m\u001b[0;34m(\u001b[0m\u001b[0mrepetitions\u001b[0m\u001b[0;34m)\u001b[0m\u001b[0;34m:\u001b[0m\u001b[0;34m\u001b[0m\u001b[0m\n\u001b[1;32m      2\u001b[0m     \u001b[0msenate_woman\u001b[0m \u001b[0;34m=\u001b[0m \u001b[0mrng\u001b[0m\u001b[0;34m.\u001b[0m\u001b[0mrand\u001b[0m\u001b[0;34m(\u001b[0m\u001b[0mn_bootstrap\u001b[0m\u001b[0;34m,\u001b[0m \u001b[0;36m50\u001b[0m\u001b[0;34m,\u001b[0m \u001b[0;36m2\u001b[0m\u001b[0;34m)\u001b[0m \u001b[0;34m<\u001b[0m \u001b[0mstate_woman\u001b[0m\u001b[0;34m[\u001b[0m\u001b[0mnp\u001b[0m\u001b[0;34m.\u001b[0m\u001b[0mnewaxis\u001b[0m\u001b[0;34m,\u001b[0m \u001b[0;34m:\u001b[0m\u001b[0;34m,\u001b[0m \u001b[0mnp\u001b[0m\u001b[0;34m.\u001b[0m\u001b[0mnewaxis\u001b[0m\u001b[0;34m]\u001b[0m\u001b[0;34m\u001b[0m\u001b[0m\n\u001b[0;32m----> 3\u001b[0;31m     \u001b[0msenate_black\u001b[0m \u001b[0;34m=\u001b[0m \u001b[0mrng\u001b[0m\u001b[0;34m.\u001b[0m\u001b[0mrand\u001b[0m\u001b[0;34m(\u001b[0m\u001b[0mn_bootstrap\u001b[0m\u001b[0;34m,\u001b[0m \u001b[0;36m50\u001b[0m\u001b[0;34m,\u001b[0m \u001b[0;36m2\u001b[0m\u001b[0;34m)\u001b[0m \u001b[0;34m<\u001b[0m \u001b[0mstate_black\u001b[0m\u001b[0;34m[\u001b[0m\u001b[0mnp\u001b[0m\u001b[0;34m.\u001b[0m\u001b[0mnewaxis\u001b[0m\u001b[0;34m,\u001b[0m \u001b[0;34m:\u001b[0m\u001b[0;34m,\u001b[0m \u001b[0mnp\u001b[0m\u001b[0;34m.\u001b[0m\u001b[0mnewaxis\u001b[0m\u001b[0;34m]\u001b[0m\u001b[0;34m\u001b[0m\u001b[0m\n\u001b[0m\u001b[1;32m      4\u001b[0m     \u001b[0mboth_women_per_state\u001b[0m \u001b[0;34m=\u001b[0m \u001b[0msenate_woman\u001b[0m\u001b[0;34m[\u001b[0m\u001b[0;34m...\u001b[0m\u001b[0;34m,\u001b[0m \u001b[0;36m0\u001b[0m\u001b[0;34m]\u001b[0m \u001b[0;34m*\u001b[0m \u001b[0msenate_woman\u001b[0m\u001b[0;34m[\u001b[0m\u001b[0;34m...\u001b[0m\u001b[0;34m,\u001b[0m \u001b[0;36m1\u001b[0m\u001b[0;34m]\u001b[0m\u001b[0;34m\u001b[0m\u001b[0m\n\u001b[1;32m      5\u001b[0m     \u001b[0;32mif\u001b[0m \u001b[0mii\u001b[0m \u001b[0;34m==\u001b[0m \u001b[0;36m0\u001b[0m\u001b[0;34m:\u001b[0m\u001b[0;34m\u001b[0m\u001b[0m\n",
      "\u001b[0;31mKeyboardInterrupt\u001b[0m: "
     ]
    }
   ],
   "source": [
    "for ii in range(repetitions):\n",
    "    print('{} out of {}'.format(ii, repetitions))\n",
    "    senate_woman = rng.rand(n_bootstrap, 50, 2) < state_woman[np.newaxis, :, np.newaxis]\n",
    "    senate_black = rng.rand(n_bootstrap, 50, 2) < state_black[np.newaxis, :, np.newaxis]\n",
    "    both_women_per_state = senate_woman[..., 0] * senate_woman[..., 1]\n",
    "    if ii == 0:\n",
    "        n_states_2_women = both_women_per_state.sum(axis=1)\n",
    "        n_black_women = np.sum(senate_woman * senate_black, axis=(1, 2))\n",
    "        n_black = senate_black.sum(axis=(1, 2))\n",
    "        n_women = senate_woman.sum(axis=(1, 2))\n",
    "    else:\n",
    "        n_states_2_women = np.concatenate([n_states_2_women, both_women_per_state.sum(axis=1)])\n",
    "        n_black_women = np.concatenate([n_black_women, np.sum(senate_woman * senate_black, axis=(1, 2))])\n",
    "        n_black = np.concatenate([n_black, senate_black.sum(axis=(1, 2))])\n",
    "        n_women = np.concatenate([n_women, senate_woman.sum(axis=(1, 2))])"
   ]
  },
  {
   "cell_type": "code",
   "execution_count": null,
   "metadata": {
    "collapsed": true
   },
   "outputs": [],
   "source": [
    "def make_plots(data, reality, description):\n",
    "    f, axes = plt.subplots(1, 2, figsize=(10, 5))\n",
    "    for ax in axes:\n",
    "        h, b, p = ax.hist(data, bins=np.arange(0, 101), normed=True)\n",
    "        ax.plot([reality + .5, reality + .5], [0, 1], c='black')\n",
    "        ax.set_ylim(h[h>0].min()/10., 1)\n",
    "        ax.set_xlim(-1, data.max() + 2)\n",
    "        ax.set_xlabel('Number of {}'.format(description))\n",
    "        ax.set_ylabel('Probability')\n",
    "    axes[0].set_ylim(0, .2)\n",
    "    axes[0].set_yticks([0, .1, .2])\n",
    "    axes[1].set_yscale('log')\n",
    "    print('p for {} or fewer {}: {}'.format(reality, description, np.mean(data <= reality)))\n",
    "    print('mean for {}: {}'.format(description, data.mean()))\n",
    "    print('mode for {}: {} at {} probability'.format(description, h.argmax(), h.max()))"
   ]
  },
  {
   "cell_type": "code",
   "execution_count": null,
   "metadata": {},
   "outputs": [],
   "source": [
    "make_plots(n_states_2_women, 3, 'states with 2 women senators')\n",
    "plt.savefig(os.path.join(os.environ['HOME'],'Downloads/2WomenStates.png'), dpi=300)\n",
    "plt.show()"
   ]
  },
  {
   "cell_type": "code",
   "execution_count": null,
   "metadata": {},
   "outputs": [],
   "source": [
    "make_plots(n_women, 21, 'women senators')\n",
    "plt.savefig(os.path.join(os.environ['HOME'],'Downloads/21Women.png'), dpi=300)\n",
    "plt.show()"
   ]
  },
  {
   "cell_type": "code",
   "execution_count": null,
   "metadata": {},
   "outputs": [],
   "source": [
    "make_plots(n_black_women, 1, 'Black women senators')\n",
    "plt.savefig(os.path.join(os.environ['HOME'],'Downloads/1BlackWoman.png'), dpi=300)\n",
    "plt.show()"
   ]
  },
  {
   "cell_type": "code",
   "execution_count": null,
   "metadata": {},
   "outputs": [],
   "source": [
    "make_plots(n_black, 3, 'Black senators')\n",
    "plt.savefig(os.path.join(os.environ['HOME'],'Downloads/3Black.png'), dpi=300)\n",
    "plt.show()"
   ]
  },
  {
   "cell_type": "markdown",
   "metadata": {
    "collapsed": true
   },
   "source": [
    "# Coins "
   ]
  },
  {
   "cell_type": "code",
   "execution_count": 40,
   "metadata": {
    "collapsed": true
   },
   "outputs": [],
   "source": [
    "def factorial(n):\n",
    "    \"\"\"Compute n!.\"\"\"\n",
    "    result = 1\n",
    "    for ii in range(1, n+1):\n",
    "        result *= ii\n",
    "    return result\n",
    "\n",
    "def odds(n, h):\n",
    "    \"\"\"Compute the odds of getting h heads in n coin-flips.\"\"\"\n",
    "    return .5**n * (factorial(n))/(factorial(n-h))/(factorial(h))"
   ]
  },
  {
   "cell_type": "code",
   "execution_count": 50,
   "metadata": {},
   "outputs": [
    {
     "name": "stdout",
     "output_type": "stream",
     "text": [
      "0.24609375\n",
      "0.1171875\n"
     ]
    }
   ],
   "source": [
    "print(odds(10, 5))\n",
    "print(odds(10, 7))"
   ]
  },
  {
   "cell_type": "code",
   "execution_count": 51,
   "metadata": {},
   "outputs": [
    {
     "name": "stdout",
     "output_type": "stream",
     "text": [
      "0.07958923738717878\n",
      "2.3170690580135177e-05\n"
     ]
    }
   ],
   "source": [
    "print(odds(100, 50))\n",
    "print(odds(100, 70))"
   ]
  },
  {
   "cell_type": "code",
   "execution_count": 52,
   "metadata": {},
   "outputs": [
    {
     "data": {
      "text/plain": [
       "2.0418414110621324e+21"
      ]
     },
     "execution_count": 52,
     "metadata": {},
     "output_type": "execute_result"
    }
   ],
   "source": [
    "(factorial(100))/(factorial(100-21))/(factorial(21))"
   ]
  }
 ],
 "metadata": {
  "kernelspec": {
   "display_name": "Python 3",
   "language": "python",
   "name": "python3"
  },
  "language_info": {
   "codemirror_mode": {
    "name": "ipython",
    "version": 3
   },
   "file_extension": ".py",
   "mimetype": "text/x-python",
   "name": "python",
   "nbconvert_exporter": "python",
   "pygments_lexer": "ipython3",
   "version": "3.6.2"
  }
 },
 "nbformat": 4,
 "nbformat_minor": 2
}
