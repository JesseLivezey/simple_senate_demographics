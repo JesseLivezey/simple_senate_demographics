{
 "cells": [
  {
   "cell_type": "code",
   "execution_count": 1,
   "metadata": {
    "collapsed": true
   },
   "outputs": [],
   "source": [
    "import numpy as np\n",
    "import pandas as pd\n",
    "\n",
    "import matplotlib.pyplot as plt"
   ]
  },
  {
   "cell_type": "code",
   "execution_count": 14,
   "metadata": {
    "collapsed": true
   },
   "outputs": [],
   "source": [
    "rng = np.random.RandomState(20170720)\n",
    "data = pd.read_csv('data.csv')\n",
    "\n",
    "n_bootstrap = 10000\n",
    "repetitions = 1000"
   ]
  },
  {
   "cell_type": "code",
   "execution_count": 15,
   "metadata": {
    "collapsed": true
   },
   "outputs": [],
   "source": [
    "state_black = data['Fraction Black'].values\n",
    "state_woman = data['Fraction Female'].values"
   ]
  },
  {
   "cell_type": "code",
   "execution_count": 16,
   "metadata": {},
   "outputs": [],
   "source": [
    "for ii in range(repetitions):\n",
    "    senate_woman = rng.rand(n_bootstrap, 50, 2) < state_woman[np.newaxis, :, np.newaxis]\n",
    "    senate_black = rng.rand(n_bootstrap, 50, 2) < state_black[np.newaxis, :, np.newaxis]\n",
    "    both_women_per_state = senate_woman[..., 0] * senate_woman[..., 1]\n",
    "    if ii == 0:\n",
    "        n_states_2_women = both_women_per_state.sum(axis=1)\n",
    "        n_black_women = np.sum(senate_woman * senate_black, axis=(1, 2))\n",
    "        n_black = senate_black.sum(axis=(1, 2))\n",
    "        n_women = senate_woman.sum(axis=(1, 2))\n",
    "    else:\n",
    "        n_states_2_women = np.concatenate([n_states_2_women, both_women_per_state.sum(axis=1)])\n",
    "        n_black_women = np.concatenate([n_black_women, np.sum(senate_woman * senate_black, axis=(1, 2))])\n",
    "        n_black = np.concatenate([n_black, senate_black.sum(axis=(1, 2))])\n",
    "        n_women = np.concatenate([n_women, senate_woman.sum(axis=(1, 2))])"
   ]
  },
  {
   "cell_type": "code",
   "execution_count": 22,
   "metadata": {
    "collapsed": true
   },
   "outputs": [],
   "source": [
    "def make_plot(data, reality, description):\n",
    "    f, ax = plt.subplots(1, figsize=(5, 5))\n",
    "    h, b, p = ax.hist(data, bins=np.arange(0, 101), normed=True)\n",
    "    plt.plot([reality + .5, reality + .5], [0, 1], c='black')\n",
    "    ax.set_yscale('log')\n",
    "    ax.set_ylim(None, 1)\n",
    "    ax.set_xlim(-1, data.max() + 2)\n",
    "    ax.set_xlabel('Number')\n",
    "    ax.set_ylabel('Probability')\n",
    "    plt.show()\n",
    "    print('p for {} or fewer {}: {}'.format(reality, description, np.mean(data <= reality)))\n",
    "    print('mean for {}: {}'.format(description, data.mean()))\n",
    "    print('mode for {}: {}'.format(description, h.argmax()))"
   ]
  },
  {
   "cell_type": "code",
   "execution_count": 23,
   "metadata": {},
   "outputs": [
    {
     "data": {
      "image/png": "[encoded data removed]",
      "text/plain": [
       "<matplotlib.figure.Figure at 0x10a436fd0>"
      ]
     },
     "metadata": {},
     "output_type": "display_data"
    },
    {
     "name": "stdout",
     "output_type": "stream",
     "text": [
      "p for 3 or fewer states with 2 women senators: 0.000338\n",
      "mean for states with 2 women senators: 12.8575782\n",
      "mode for states with 2 women senators: 13\n"
     ]
    }
   ],
   "source": [
    "make_plot(n_states_2_women, 3, 'states with 2 women senators')"
   ]
  },
  {
   "cell_type": "code",
   "execution_count": 24,
   "metadata": {},
   "outputs": [
    {
     "data": {
      "image/png": "[encoded data removed]",
      "text/plain": [
       "<matplotlib.figure.Figure at 0x11306ac50>"
      ]
     },
     "metadata": {},
     "output_type": "display_data"
    },
    {
     "name": "stdout",
     "output_type": "stream",
     "text": [
      "p for 21 or fewer women senators: 0.0\n",
      "mean for women senators: 50.7032995\n",
      "mode for women senators: 51\n"
     ]
    }
   ],
   "source": [
    "make_plot(n_women, 21, 'women senators')"
   ]
  },
  {
   "cell_type": "code",
   "execution_count": 25,
   "metadata": {},
   "outputs": [
    {
     "data": {
      "image/png": "[encoded data removed]",
      "text/plain": [
       "<matplotlib.figure.Figure at 0x1137001d0>"
      ]
     },
     "metadata": {},
     "output_type": "display_data"
    },
    {
     "name": "stdout",
     "output_type": "stream",
     "text": [
      "p for 1 or fewer Black women senators: 0.0262999\n",
      "mean for Black women senators: 5.2797153\n",
      "mode for Black women senators: 5\n"
     ]
    }
   ],
   "source": [
    "make_plot(n_black_women, 1, 'Black women senators')"
   ]
  },
  {
   "cell_type": "code",
   "execution_count": 26,
   "metadata": {},
   "outputs": [
    {
     "data": {
      "image/png": "[encoded data removed]",
      "text/plain": [
       "<matplotlib.figure.Figure at 0x113b465c0>"
      ]
     },
     "metadata": {},
     "output_type": "display_data"
    },
    {
     "name": "stdout",
     "output_type": "stream",
     "text": [
      "p for 3 or fewer Black senators: 0.004333\n",
      "mean for Black senators: 10.3399782\n",
      "mode for Black senators: 10\n"
     ]
    }
   ],
   "source": [
    "make_plot(n_black, 3, 'Black senators')"
   ]
  },
  {
   "cell_type": "code",
   "execution_count": null,
   "metadata": {
    "collapsed": true
   },
   "outputs": [],
   "source": []
  }
 ],
 "metadata": {
  "kernelspec": {
   "display_name": "Python [default]",
   "language": "python",
   "name": "python3"
  },
  "language_info": {
   "codemirror_mode": {
    "name": "ipython",
    "version": 3
   },
   "file_extension": ".py",
   "mimetype": "text/x-python",
   "name": "python",
   "nbconvert_exporter": "python",
   "pygments_lexer": "ipython3",
   "version": "3.5.3"
  }
 },
 "nbformat": 4,
 "nbformat_minor": 2
}
